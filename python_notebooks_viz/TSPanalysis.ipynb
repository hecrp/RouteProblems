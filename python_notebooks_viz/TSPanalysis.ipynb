{
 "cells": [
  {
   "cell_type": "markdown",
   "metadata": {},
   "source": [
    "# TSP Algorithm Analysis\n",
    "\n",
    "This notebook analyzes the results of various TSP (Traveling Salesman Problem) algorithms."
   ]
  },
  {
   "cell_type": "code",
   "execution_count": null,
   "metadata": {},
   "outputs": [],
   "source": [
    "import pandas as pd\n",
    "import matplotlib.pyplot as plt\n",
    "import seaborn as sns\n",
    "\n",
    "# Set style for plots\n",
    "plt.rcParams.update({'font.size': 12, 'axes.labelsize': 14, 'axes.titlesize': 16})\n",
    "sns.set_theme(style=\"whitegrid\", palette=\"deep\")"
   ]
  },
  {
   "cell_type": "markdown",
   "metadata": {},
   "source": [
    "## Load and Prepare Data\n",
    "\n",
    "We are using the results dataset for the matrix2.txt TSP problem. The file we're loading contains the results of various TSP algorithms applied to the matrix2 problem. It includes information about TSPNNGRASP solver, improvers, their parameters, and performance metrics such as total cost and execution time.\n"
   ]
  },
  {
   "cell_type": "code",
   "execution_count": null,
   "metadata": {
    "collapsed": true,
    "jupyter": {
     "outputs_hidden": true
    }
   },
   "outputs": [],
   "source": [
    "# Load the CSV file\n",
    "df = pd.read_csv('data/tspnngrasp.csv', sep=';')\n",
    "\n",
    "# Display the first few rows and data info\n",
    "print(df.head())\n",
    "print(df.info())"
   ]
  },
  {
   "cell_type": "markdown",
   "metadata": {},
   "source": [
    "## Data Analysis\n",
    "\n",
    "In this section, we'll perform a comprehensive analysis of the TSP algorithm results for the matrix2.txt dataset. We'll start by examining the overall performance of different solver and improver combinations."
   ]
  },
  {
   "cell_type": "code",
   "execution_count": null,
   "metadata": {},
   "outputs": [],
   "source": [
    "# Group by Solver and Improver, calculate mean TotalCost\n",
    "grouped = df.groupby(['Solver', 'Improver'])['TotalCost'].mean().reset_index()\n",
    "\n",
    "# Plot bar chart\n",
    "plt.figure(figsize=(12, 6))\n",
    "sns.barplot(x='Solver', y='TotalCost', hue='Improver', data=grouped)\n",
    "plt.title('Average Total Cost by Solver and Improver')\n",
    "plt.xticks(rotation=45)\n",
    "plt.show()"
   ]
  },
  {
   "cell_type": "markdown",
   "metadata": {},
   "source": [
    "## Performance Analysis"
   ]
  },
  {
   "cell_type": "code",
   "execution_count": null,
   "metadata": {},
   "outputs": [],
   "source": [
    "# Scatter plot of TotalCost vs Time\n",
    "plt.figure(figsize=(10, 6))\n",
    "sns.scatterplot(x='Time', y='TotalCost', hue='Improver', style='Solver', data=df)\n",
    "plt.title('Total Cost vs Time by Solver and Improver')\n",
    "plt.show()"
   ]
  },
  {
   "cell_type": "markdown",
   "metadata": {},
   "source": [
    "## Parameter Analysis"
   ]
  },
  {
   "cell_type": "code",
   "execution_count": null,
   "metadata": {},
   "outputs": [],
   "source": [
    "# Analyze effect of GraspListSize on TotalCost\n",
    "plt.figure(figsize=(10, 6))\n",
    "sns.boxplot(x='GraspListSize', y='TotalCost', data=df[df['Solver'] == 'TSPNNGRASP'])\n",
    "plt.title('Effect of GraspListSize on Total Cost')\n",
    "plt.show()"
   ]
  },
  {
   "cell_type": "markdown",
   "metadata": {},
   "source": [
    "# Analysis of 2-OPT Improver\n",
    "\n",
    "Based on our previous analysis, the 2-OPT improver has shown the best average performance for solving the Traveling Salesman Problem (TSP) using the TSPNNGRASP solver with the matrix2.txt dataset. In the following sections, we will dive deeper into the performance characteristics and parameter sensitivity of the 2-OPT improver.\n",
    "\n",
    "\n",
    "We'll examine how different parameters, such as the maximum number of iterations (TwoOptMaxIter) and the GRASP list size, affect the total cost and execution time. This analysis will help us understand the trade-offs between solution quality and computational effort, as well as identify the optimal parameter settings for the 2-OPT improver in this specific TSP instance.\n"
   ]
  },
  {
   "cell_type": "code",
   "execution_count": null,
   "metadata": {},
   "outputs": [],
   "source": [
    "# Filter data for 2-OPT improver\n",
    "df_2opt = df[df['Improver'] == 'RoutingTwoOPT']\n",
    "\n",
    "# Analyze effect of TwoOptMaxIter on TotalCost\n",
    "plt.figure(figsize=(10, 6))\n",
    "sns.boxplot(x='TwoOptMaxIter', y='TotalCost', data=df_2opt)\n",
    "plt.title('Effect of TwoOptMaxIter on Total Cost for 2-OPT')\n",
    "plt.xlabel('TwoOptMaxIter')\n",
    "plt.ylabel('Total Cost')\n",
    "plt.show()\n",
    "\n"
   ]
  },
  {
   "cell_type": "code",
   "execution_count": null,
   "metadata": {},
   "outputs": [],
   "source": [
    "# Scatter plot of TotalCost vs Time for 2-OPT\n",
    "plt.figure(figsize=(10, 6))\n",
    "sns.scatterplot(x='Time', y='TotalCost', hue='TwoOptMaxIter', data=df_2opt)\n",
    "plt.title('Total Cost vs Time for 2-OPT Improver')\n",
    "plt.xlabel('Time (seconds)')\n",
    "plt.ylabel('Total Cost')\n",
    "plt.legend(title='TwoOptMaxIter')\n",
    "plt.show()\n"
   ]
  },
  {
   "cell_type": "code",
   "execution_count": null,
   "metadata": {},
   "outputs": [],
   "source": [
    "\n",
    "# Analyze effect of GraspListSize on TotalCost for 2-OPT\n",
    "plt.figure(figsize=(10, 6))\n",
    "sns.boxplot(x='GraspListSize', y='TotalCost', data=df_2opt)\n",
    "plt.title('Effect of GraspListSize on Total Cost for 2-OPT')\n",
    "plt.xlabel('GraspListSize')\n",
    "plt.ylabel('Total Cost')\n",
    "plt.show()"
   ]
  },
  {
   "cell_type": "code",
   "execution_count": null,
   "metadata": {},
   "outputs": [],
   "source": [
    "# Heatmap of TotalCost for different combinations of TwoOptMaxIter and GraspListSize\n",
    "pivot_table = df_2opt.pivot_table(values='TotalCost', index='TwoOptMaxIter', columns='GraspListSize', aggfunc='mean')\n",
    "plt.figure(figsize=(16, 6))  # Adjusted figure size to make it more rectangular\n",
    "sns.heatmap(pivot_table, annot=True, cmap='YlOrRd', fmt='.0f')  # Removed aspect='auto'\n",
    "plt.title('Average Total Cost for 2-OPT: TwoOptMaxIter vs GraspListSize')\n",
    "plt.xlabel('GraspListSize')\n",
    "plt.ylabel('TwoOptMaxIter')\n",
    "plt.tight_layout()  # Added to ensure all elements fit within the figure\n",
    "plt.show()\n"
   ]
  },
  {
   "cell_type": "code",
   "execution_count": null,
   "metadata": {},
   "outputs": [],
   "source": [
    "# Filter SimulatedAnnealing results to keep only those with TotalCost at least as bad as the worst 2-OPT result\n",
    "worst_2opt_cost = df_2opt['TotalCost'].max()\n",
    "df_sa = df[df['Improver'] == 'RoutingSimulatedAnnealing']\n",
    "df_sa_filtered = df_sa[df_sa['TotalCost'] >= worst_2opt_cost]\n",
    "\n",
    "# Combine filtered SimulatedAnnealing results with 2-OPT results\n",
    "df_combined = pd.concat([df_2opt, df_sa_filtered])\n",
    "\n",
    "# Print summary statistics\n",
    "print(\"Number of 2-OPT solutions:\", len(df_2opt))\n",
    "print(\"Number of filtered SimulatedAnnealing solutions:\", len(df_sa_filtered))\n",
    "print(\"\\nWorst 2-OPT Total Cost:\", worst_2opt_cost)\n",
    "print(\"Worst SimulatedAnnealing Total Cost:\", df_sa_filtered['TotalCost'].max())\n",
    "print(\"\\nAverage Time for 2-OPT:\", df_2opt['Time'].mean())\n",
    "print(\"Average Time for filtered SimulatedAnnealing:\", df_sa_filtered['Time'].mean())\n",
    "\n",
    "# Print best solutions for each improver\n",
    "print(\"\\nBest 2-OPT solution:\")\n",
    "best_2opt = df_2opt.loc[df_2opt['TotalCost'].idxmin()]\n",
    "print(f\"Total Cost: {best_2opt['TotalCost']}, Time: {best_2opt['Time']}, TwoOptMaxIter: {best_2opt['TwoOptMaxIter']}, GraspListSize: {best_2opt['GraspListSize']}\")\n",
    "\n",
    "print(\"\\nBest SimulatedAnnealing solution:\")\n",
    "best_sa = df_sa.loc[df_sa['TotalCost'].idxmin()]\n",
    "print(f\"Total Cost: {best_sa['TotalCost']}, Time: {best_sa['Time']}, SAInitialTemp: {best_sa['SAInitialTemp']}, SACoolingRate: {best_sa['SACoolingRate']}, SAIterations: {best_sa['SAIterations']}\")\n"
   ]
  },
  {
   "cell_type": "code",
   "execution_count": null,
   "metadata": {},
   "outputs": [],
   "source": [
    "# Box plot comparing TotalCost distribution\n",
    "plt.figure(figsize=(12, 6))\n",
    "sns.boxplot(x='Improver', y='TotalCost', data=df_combined)\n",
    "plt.title('TotalCost Distribution: 2-OPT vs Filtered SimulatedAnnealing')\n",
    "plt.ylabel('Total Cost')\n",
    "plt.show()\n"
   ]
  },
  {
   "cell_type": "code",
   "execution_count": null,
   "metadata": {},
   "outputs": [],
   "source": [
    "\n",
    "# Scatter plot of TotalCost vs Time\n",
    "plt.figure(figsize=(12, 6))\n",
    "sns.scatterplot(x='Time', y='TotalCost', hue='Improver', data=df_combined)\n",
    "plt.title('Total Cost vs Time: 2-OPT vs Filtered SimulatedAnnealing')\n",
    "plt.xlabel('Time (seconds)')\n",
    "plt.ylabel('Total Cost')\n",
    "plt.legend(title='Improver')\n",
    "plt.show()\n",
    "\n"
   ]
  },
  {
   "cell_type": "code",
   "execution_count": null,
   "metadata": {},
   "outputs": [],
   "source": [
    "# Analyze effect of SAInitialTemp on TotalCost for filtered SimulatedAnnealing\n",
    "plt.figure(figsize=(12, 6))\n",
    "sns.boxplot(x='SAInitialTemp', y='TotalCost', data=df_sa_filtered)\n",
    "plt.title('Effect of SAInitialTemp on Total Cost for Filtered SimulatedAnnealing')\n",
    "plt.xlabel('SAInitialTemp')\n",
    "plt.ylabel('Total Cost')\n",
    "plt.show()\n"
   ]
  },
  {
   "cell_type": "code",
   "execution_count": null,
   "metadata": {},
   "outputs": [],
   "source": [
    "\n",
    "# Analyze effect of SACoolingRate on TotalCost for filtered SimulatedAnnealing\n",
    "plt.figure(figsize=(12, 6))\n",
    "sns.boxplot(x='SACoolingRate', y='TotalCost', data=df_sa_filtered)\n",
    "plt.title('Effect of SACoolingRate on Total Cost for Filtered SimulatedAnnealing')\n",
    "plt.xlabel('SACoolingRate')\n",
    "plt.ylabel('Total Cost')\n",
    "plt.show()\n",
    "\n"
   ]
  },
  {
   "cell_type": "code",
   "execution_count": null,
   "metadata": {},
   "outputs": [],
   "source": [
    "# Heatmap of TotalCost for different combinations of SAInitialTemp and SACoolingRate\n",
    "pivot_table_sa = df_sa_filtered.pivot_table(values='TotalCost', index='SAInitialTemp', columns='SACoolingRate', aggfunc='mean')\n",
    "plt.figure(figsize=(16, 6))\n",
    "sns.heatmap(pivot_table_sa, annot=True, cmap='YlOrRd', fmt='.0f')\n",
    "plt.title('Average Total Cost for Filtered SimulatedAnnealing: SAInitialTemp vs SACoolingRate')\n",
    "plt.xlabel('SACoolingRate')\n",
    "plt.ylabel('SAInitialTemp')\n",
    "plt.tight_layout()\n",
    "plt.show()"
   ]
  }
 ],
 "metadata": {
  "kernelspec": {
   "display_name": "Python 3 (ipykernel)",
   "language": "python",
   "name": "python3"
  }
 },
 "nbformat": 4,
 "nbformat_minor": 4
}
