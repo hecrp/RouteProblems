{
    "cells": [
     {
      "cell_type": "markdown",
      "metadata": {},
      "source": [
       "# TSP Algorithm Analysis\n",
       "\n",
       "This notebook analyzes the results of various TSP (Traveling Salesman Problem) algorithms."
      ]
     },
     {
      "cell_type": "code",
      "execution_count": null,
      "metadata": {},
      "source": [
       "import pandas as pd\n",
       "import matplotlib.pyplot as plt\n",
       "import seaborn as sns\n",
       "\n",
       "# Set style for plots\n",
       "plt.style.use('seaborn')\n",
       "sns.set_palette(\"deep\")"
      ]
     },
     {
      "cell_type": "markdown",
      "metadata": {},
      "source": [
       "## Load and Prepare Data"
      ]
     },
     {
      "cell_type": "code",
      "execution_count": null,
      "metadata": {},
      "source": [
       "# Load the CSV file\n",
       "df = pd.read_csv('../tsp_analysis_results_20240903_051500.csv')\n",
       "\n",
       "# Display the first few rows and data info\n",
       "print(df.head())\n",
       "print(df.info())"
      ]
     },
     {
      "cell_type": "markdown",
      "metadata": {},
      "source": [
       "## Data Analysis"
      ]
     },
     {
      "cell_type": "code",
      "execution_count": null,
      "metadata": {},
      "source": [
       "# Group by Solver and Improver, calculate mean TotalCost\n",
       "grouped = df.groupby(['Solver', 'Improver'])['TotalCost'].mean().reset_index()\n",
       "\n",
       "# Plot bar chart\n",
       "plt.figure(figsize=(12, 6))\n",
       "sns.barplot(x='Solver', y='TotalCost', hue='Improver', data=grouped)\n",
       "plt.title('Average Total Cost by Solver and Improver')\n",
       "plt.xticks(rotation=45)\n",
       "plt.show()"
      ]
     },
     {
      "cell_type": "markdown",
      "metadata": {},
      "source": [
       "## Performance Analysis"
      ]
     },
     {
      "cell_type": "code",
      "execution_count": null,
      "metadata": {},
      "source": [
       "# Scatter plot of TotalCost vs Time\n",
       "plt.figure(figsize=(10, 6))\n",
       "sns.scatterplot(x='Time', y='TotalCost', hue='Improver', style='Solver', data=df)\n",
       "plt.title('Total Cost vs Time by Solver and Improver')\n",
       "plt.show()"
      ]
     },
     {
      "cell_type": "markdown",
      "metadata": {},
      "source": [
       "## Parameter Analysis"
      ]
     },
     {
      "cell_type": "code",
      "execution_count": null,
      "metadata": {},
      "source": [
       "# Analyze effect of GraspListSize on TotalCost\n",
       "plt.figure(figsize=(10, 6))\n",
       "sns.boxplot(x='GraspListSize', y='TotalCost', data=df[df['Solver'] == 'TSPNNGRASP'])\n",
       "plt.title('Effect of GraspListSize on Total Cost')\n",
       "plt.show()"
      ]
     },
     {
      "cell_type": "markdown",
      "metadata": {},
      "source": [
       "## Conclusion\n",
       "\n",
       "Summarize your findings here."
      ]
     }
    ],
    "metadata": {
     "kernelspec": {
      "display_name": "Python 3",
      "language": "python",
      "name": "python3"
     },
     "language_info": {
      "codemirror_mode": {
       "name": "ipython",
       "version": 3
      },
      "file_extension": ".py",
      "mimetype": "text/x-python",
      "name": "python",
      "nbconvert_exporter": "python",
      "pygments_lexer": "ipython3",
      "version": "3.8.5"
     }
    },
    "nbformat": 4,
    "nbformat_minor": 4
   }